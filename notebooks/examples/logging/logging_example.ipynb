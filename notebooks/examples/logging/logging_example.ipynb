{
 "cells": [
  {
   "cell_type": "markdown",
   "metadata": {},
   "source": [
    "# Modeling and Evaluation"
   ]
  },
  {
   "cell_type": "code",
   "execution_count": null,
   "metadata": {},
   "outputs": [],
   "source": [
    "import pandas as pd\n",
    "import xgboost as xgb\n",
    "from sklearn.metrics import f1_score\n",
    "from sklearn.model_selection import train_test_split\n",
    "from sklearn.ensemble import RandomForestClassifier\n",
    "from xgboost import XGBClassifier\n",
    "import matplotlib.pyplot as plt\n",
    "from sklearn.metrics import precision_recall_curve, auc \n",
    "from sklearn.metrics import classification_report, confusion_matrix\n",
    "from sklearn import datasets\n",
    "import numpy as np\n",
    "import mlflow\n",
    "import plotly.express as px"
   ]
  },
  {
   "cell_type": "markdown",
   "metadata": {},
   "source": [
    "## Functions"
   ]
  },
  {
   "cell_type": "code",
   "execution_count": null,
   "metadata": {},
   "outputs": [],
   "source": [
    "def plot_precision_recall(y_true, y_pred, algorithm_name = 'foo'):\n",
    "    precision, recall, thresholds = precision_recall_curve(y_true, y_pred)\n",
    "\n",
    "    fig = px.area(\n",
    "        x=recall, y=precision,\n",
    "        title=f'Precision-Recall Curve (AUC={auc(recall, precision):.4f})',\n",
    "        labels=dict(x='Recall', y='Precision'),\n",
    "        width=700, height=500\n",
    "    )\n",
    "    fig.add_shape(\n",
    "        type='line', line=dict(dash='dash'),\n",
    "        x0=0, x1=1, y0=1, y1=0\n",
    "    )\n",
    "    fig.update_yaxes(scaleanchor=\"x\", scaleratio=1)\n",
    "    fig.update_xaxes(constrain='domain')\n",
    "    fig.write_image(f'images/precision_recall_{algorithm_name}.png')\n",
    "    #fig.show()"
   ]
  },
  {
   "cell_type": "code",
   "execution_count": null,
   "metadata": {},
   "outputs": [],
   "source": [
    "def get_confusion_matrix_metrics(y_test, y_pred):\n",
    "    array = confusion_matrix(y_test, y_pred)\n",
    "    tn = array[0, 0]\n",
    "    fn = array[1, 0]\n",
    "    fp = array[0, 1]\n",
    "    tp = array[1, 1]\n",
    "\n",
    "    err = ((fp+fn)/(tp+tn+fn+fp))*100\n",
    "    acc = ((tp+tn)/(tp+tn+fn+fp))*100\n",
    "    tpr = ((tp)/(tp+fn))*100\n",
    "    tnr = ((tn)/(tn+fp))*100\n",
    "    fnr = ((fn)/(tp+fn))*100\n",
    "    fpr = ((fp)/(tn+fp))*100\n",
    "\n",
    "    return err, acc, tpr, tnr, fnr, fpr"
   ]
  },
  {
   "cell_type": "markdown",
   "metadata": {},
   "source": [
    "## Get data"
   ]
  },
  {
   "cell_type": "code",
   "execution_count": null,
   "metadata": {},
   "outputs": [],
   "source": [
    "n = 1000\n",
    "test_size = 0.25\n",
    "data_seed = 73 \n",
    "\n",
    "X, y = datasets.make_moons(\n",
    "    n_samples = n, \n",
    "    noise = 0.25, \n",
    "    random_state = data_seed)\n",
    "\n",
    "\n",
    "X_train, X_test, y_train, y_test = train_test_split(\n",
    "    X,\n",
    "    y,\n",
    "    test_size = test_size,\n",
    "    random_state = 42)\n",
    "\n",
    "plt.scatter(\n",
    "    x = X[:,0], \n",
    "    y = X[:,1], \n",
    "    s = 40, \n",
    "    c = y, \n",
    "    cmap = plt.cm.Accent);"
   ]
  },
  {
   "cell_type": "markdown",
   "metadata": {},
   "source": [
    "## Run the  experiment"
   ]
  },
  {
   "cell_type": "code",
   "execution_count": null,
   "metadata": {},
   "outputs": [],
   "source": [
    "mlflow.set_experiment(\"Moon Classification\")\n",
    "mlflow.autolog()\n",
    "\n",
    "target_names = ['0', '1']"
   ]
  },
  {
   "cell_type": "markdown",
   "metadata": {},
   "source": [
    "### Random Forest"
   ]
  },
  {
   "cell_type": "code",
   "execution_count": null,
   "metadata": {},
   "outputs": [],
   "source": [
    "with mlflow.start_run(run_name='random_forest_model') as run:\n",
    "    model_rf = RandomForestClassifier(random_state = 42, n_estimators=2)\n",
    "    model_rf.fit(X_train, y_train)\n",
    "    y_pred = model_rf.predict(X_test)\n",
    "\n",
    "    # metrics\n",
    "    precision_0 = classification_report(\n",
    "    y_true=y_test, \n",
    "    y_pred=y_pred, \n",
    "    target_names=target_names, \n",
    "    output_dict=True)[\"0\"][\"precision\"]\n",
    "\n",
    "    recall_0 = classification_report(\n",
    "    y_true=y_test, \n",
    "    y_pred=y_pred, \n",
    "    target_names=target_names, \n",
    "    output_dict=True)[\"0\"][\"recall\"]\n",
    "\n",
    "    f1_score_0 = classification_report(\n",
    "    y_true=y_test, \n",
    "    y_pred=y_pred, \n",
    "    target_names=target_names, \n",
    "    output_dict=True)[\"0\"][\"f1-score\"]\n",
    "\n",
    "    precision_1 = classification_report(\n",
    "    y_true=y_test, \n",
    "    y_pred=y_pred, \n",
    "    target_names=target_names, \n",
    "    output_dict=True)[\"1\"][\"precision\"]\n",
    "\n",
    "    recall_1 = classification_report(\n",
    "    y_true=y_test, \n",
    "    y_pred=y_pred, \n",
    "    target_names=target_names, \n",
    "    output_dict=True)[\"1\"][\"recall\"]\n",
    "\n",
    "    f1_score_1 = classification_report(\n",
    "    y_true=y_test, \n",
    "    y_pred=y_pred, \n",
    "    target_names=target_names, \n",
    "    output_dict=True)[\"1\"][\"f1-score\"]\n",
    "    \n",
    "    err, acc, tpr, tnr, fnr, fpr = get_confusion_matrix_metrics(y_test=y_test, y_pred=y_pred)\n",
    "    \n",
    "    # log metrics\n",
    "    mlflow.log_metric(\"precision_0\", precision_0)\n",
    "    mlflow.log_metric(\"recall_0\", recall_0)\n",
    "    mlflow.log_metric(\"f1_score_0\", f1_score_0)\n",
    "    mlflow.log_metric(\"precision_1\", precision_1)\n",
    "    mlflow.log_metric(\"recall_1\", recall_1)\n",
    "    mlflow.log_metric(\"f1_score_1\", f1_score_1)\n",
    "    \n",
    "    mlflow.log_metric(\"err\", err)\n",
    "    mlflow.log_metric(\"acc\", acc)\n",
    "    mlflow.log_metric(\"tpr\", tpr)\n",
    "    mlflow.log_metric(\"tnr\", tnr)\n",
    "    mlflow.log_metric(\"fnr\", fnr)\n",
    "    mlflow.log_metric(\"fpr\", fpr)\n",
    "    \n",
    "    algorithm_name = \"rf\"\n",
    "    plot_precision_recall(y_test, y_pred, algorithm_name=algorithm_name)\n",
    "    mlflow.log_artifact(f\"images/precision_recall_{algorithm_name}.png\")\n",
    "    \n",
    "    mlflow.log_artifact(\"logging_example.ipynb\")"
   ]
  },
  {
   "cell_type": "code",
   "execution_count": null,
   "metadata": {},
   "outputs": [],
   "source": []
  }
 ],
 "metadata": {
  "kernelspec": {
   "display_name": "Python 3 (ipykernel)",
   "language": "python",
   "name": "python3"
  },
  "language_info": {
   "codemirror_mode": {
    "name": "ipython",
    "version": 3
   },
   "file_extension": ".py",
   "mimetype": "text/x-python",
   "name": "python",
   "nbconvert_exporter": "python",
   "pygments_lexer": "ipython3",
   "version": "3.9.13"
  },
  "toc": {
   "base_numbering": 1,
   "nav_menu": {},
   "number_sections": true,
   "sideBar": true,
   "skip_h1_title": false,
   "title_cell": "Table of Contents",
   "title_sidebar": "Contents",
   "toc_cell": false,
   "toc_position": {},
   "toc_section_display": true,
   "toc_window_display": false
  },
  "vscode": {
   "interpreter": {
    "hash": "f6087dbabe74244ee326df6afc1535a572c36535e90a65cd25ea14bffda66a2c"
   }
  }
 },
 "nbformat": 4,
 "nbformat_minor": 4
}
