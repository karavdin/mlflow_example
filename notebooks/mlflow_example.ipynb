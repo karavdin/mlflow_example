{
 "cells": [
  {
   "cell_type": "markdown",
   "metadata": {},
   "source": [
    "# Test your MLflow Workspace\n",
    "Run the following lines of code. If no error appears, then your MLflow workspace is set up correctly."
   ]
  },
  {
   "cell_type": "code",
   "execution_count": 1,
   "metadata": {},
   "outputs": [
    {
     "name": "stderr",
     "output_type": "stream",
     "text": [
      "2023/04/22 09:22:07 INFO mlflow.tracking.fluent: Experiment with name 'MLflow Example' does not exist. Creating a new experiment.\n"
     ]
    }
   ],
   "source": [
    "import mlflow\n",
    "\n",
    "EXPERIMENT_NAME = \"MLflow Example\"\n",
    "mlflow.set_experiment(EXPERIMENT_NAME)\n",
    "\n",
    "with mlflow.start_run():\n",
    "    mlflow.log_param(\"name\",\"mlflow_test\")\n",
    "    mlflow.log_param(\"category\",\"algorithm\")\n",
    "    mlflow.log_param(\"type\",\"classification\")\n",
    "    for i in range(5):\n",
    "        mlflow.log_metric(\"i\",i,step=i)\n",
    "    mlflow.log_artifact(\"mlflow_example.ipynb\")"
   ]
  },
  {
   "cell_type": "code",
   "execution_count": null,
   "metadata": {},
   "outputs": [],
   "source": []
  }
 ],
 "metadata": {
  "kernelspec": {
   "display_name": "Python 3 (ipykernel)",
   "language": "python",
   "name": "python3"
  },
  "language_info": {
   "codemirror_mode": {
    "name": "ipython",
    "version": 3
   },
   "file_extension": ".py",
   "mimetype": "text/x-python",
   "name": "python",
   "nbconvert_exporter": "python",
   "pygments_lexer": "ipython3",
   "version": "3.9.13"
  }
 },
 "nbformat": 4,
 "nbformat_minor": 4
}
